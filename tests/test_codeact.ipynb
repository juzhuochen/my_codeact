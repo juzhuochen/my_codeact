{
 "cells": [
  {
   "cell_type": "code",
   "execution_count": null,
   "id": "56fc132f",
   "metadata": {},
   "outputs": [],
   "source": [
    "from my_codeact import create_codeact_agent\n",
    "from langchain_ollama import ChatOllama\n",
    "from langchain.document_loaders import TextLoader,DirectoryLoader\n",
    "from tests.test_data.math import add_numbers, multiply_numbers"
   ]
  },
  {
   "cell_type": "code",
   "execution_count": null,
   "id": "c4fa5967",
   "metadata": {},
   "outputs": [],
   "source": [
    "llm = ChatOllama(model=\"gemma3:1b\")\n",
    "tools = [add_numbers, multiply_numbers]"
   ]
  },
  {
   "cell_type": "code",
   "execution_count": null,
   "id": "5927cab8",
   "metadata": {},
   "outputs": [],
   "source": [
    "agent = create_codeact_agent(\n",
    "    model=llm,\n",
    "    tools=tools,\n",
    "    base_prompt= \"你是一个计算助手\"\n",
    ")"
   ]
  },
  {
   "cell_type": "code",
   "execution_count": null,
   "id": "9857cc20",
   "metadata": {},
   "outputs": [],
   "source": [
    "\n"
   ]
  },
  {
   "cell_type": "code",
   "execution_count": 21,
   "id": "0503a601",
   "metadata": {},
   "outputs": [
    {
     "name": "stdout",
     "output_type": "stream",
     "text": [
      "\n",
      "用户: 计算(10 + 5) * 3的结果,使用函数进行计算\n",
      "==================================================\n",
      "助手: content='Okay, you are correct! The code now outputs 15.  The `add_numbers` function correctly adds 10 and 5, returning 15.\\n' additional_kwargs={} response_metadata={'model': 'gemma3:1b', 'created_at': '2025-07-16T08:45:01.9405572Z', 'done': True, 'done_reason': 'stop', 'total_duration': 1101985600, 'load_duration': 30271700, 'prompt_eval_count': 660, 'prompt_eval_duration': 113205000, 'eval_count': 38, 'eval_duration': 953873400, 'model_name': 'gemma3:1b'} id='run--b729a3ad-3391-48b6-b23d-b35c15845b6e-0' usage_metadata={'input_tokens': 660, 'output_tokens': 38, 'total_tokens': 698}\n",
      "执行结果: 15\n",
      "迭代次数: 6\n"
     ]
    }
   ],
   "source": [
    "# 测试对话\n",
    "test_messages = [\n",
    "    {\"role\": \"user\", \"content\": \"计算(10 + 5) * 3的结果,使用函数进行计算\"},\n",
    "]\n",
    "\n",
    "for message in test_messages:\n",
    "        print(f\"\\n用户: {message['content']}\")\n",
    "        print(\"=\" * 50)\n",
    "        \n",
    "        # 调用智能体\n",
    "        result = agent.invoke({\n",
    "            \"messages\": [message],\n",
    "            \"iteration_count\": 0,\n",
    "            \"max_iterations\": 10,\n",
    "            \"execution_context\": {},\n",
    "            \"available_tools\": {},\n",
    "            \"retry_count\": 0\n",
    "        })\n",
    "        \n",
    "        # 输出结果\n",
    "        if result.get(\"messages\"):\n",
    "            last_message = result[\"messages\"][-1]\n",
    "            print(f\"助手: {last_message}\")\n",
    "        \n",
    "        print(f\"执行结果: {result.get('execution_result', 'None')}\")\n",
    "        print(f\"迭代次数: {result.get('iteration_count', 0)}\")"
   ]
  }
 ],
 "metadata": {
  "kernelspec": {
   "display_name": ".venv",
   "language": "python",
   "name": "python3"
  },
  "language_info": {
   "codemirror_mode": {
    "name": "ipython",
    "version": 3
   },
   "file_extension": ".py",
   "mimetype": "text/x-python",
   "name": "python",
   "nbconvert_exporter": "python",
   "pygments_lexer": "ipython3",
   "version": "3.11.12"
  }
 },
 "nbformat": 4,
 "nbformat_minor": 5
}

{
 "cells": [
  {
   "cell_type": "code",
   "execution_count": null,
   "id": "56fc132f",
   "metadata": {},
   "outputs": [],
   "source": [
    "from my_codeact.core.subgraph import create_codeact_agent\n",
    "from langchain_ollama import ChatOllama\n",
    "from tests.test_data.math import add_numbers, multiply_numbers\n",
    "from my_codeact.core.state import create_initial_state"
   ]
  },
  {
   "cell_type": "code",
   "execution_count": null,
   "id": "c4fa5967",
   "metadata": {},
   "outputs": [],
   "source": [
    "llm = ChatOllama(model=\"qwen3:32b\")\n",
    "tools = [add_numbers, multiply_numbers]"
   ]
  },
  {
   "cell_type": "code",
   "execution_count": null,
   "id": "5927cab8",
   "metadata": {},
   "outputs": [],
   "source": [
    "agent = create_codeact_agent(\n",
    "    model=llm,\n",
    "    tools=tools,\n",
    "    base_prompt= \"你是一个计算助手\"\n",
    ")"
   ]
  },
  {
   "cell_type": "code",
   "execution_count": null,
   "id": "23e28342",
   "metadata": {},
   "outputs": [],
   "source": [
    "# 测试对话\n",
    "test_messages = [\n",
    "    {\"role\": \"user\", \"content\": \"计算(10 + 5) * 3的结果,使用函数进行计算\"},\n",
    "]\n"
   ]
  },
  {
   "cell_type": "code",
   "execution_count": null,
   "id": "9857cc20",
   "metadata": {},
   "outputs": [],
   "source": [
    "\n",
    "input_state = create_initial_state(\n",
    "    messages=test_messages,\n",
    "    max_iterations=3,\n",
    "\n",
    ")"
   ]
  },
  {
   "cell_type": "code",
   "execution_count": null,
   "id": "6760a334",
   "metadata": {},
   "outputs": [],
   "source": [
    "response = agent.invoke(input_state)"
   ]
  },
  {
   "cell_type": "code",
   "execution_count": null,
   "id": "76ddda6e",
   "metadata": {},
   "outputs": [],
   "source": [
    "response "
   ]
  },
  {
   "cell_type": "code",
   "execution_count": null,
   "id": "0503a601",
   "metadata": {},
   "outputs": [],
   "source": [
    "\n",
    "for message in test_messages:\n",
    "        print(f\"\\n用户: {message['content']}\")\n",
    "        print(\"=\" * 50)\n",
    "        \n",
    "        # 调用智能体\n",
    "        result = agent.invoke({\n",
    "            \"messages\": [message],\n",
    "            \"iteration_count\": 0,\n",
    "            \"max_iterations\": 10,\n",
    "            \"execution_context\": {},\n",
    "            \"available_tools\": {},\n",
    "            \"retry_count\": 0\n",
    "        })\n",
    "        \n",
    "        # 输出结果\n",
    "        if result.get(\"messages\"):\n",
    "            last_message = result[\"messages\"][-1]\n",
    "            print(f\"助手: {last_message}\")\n",
    "        \n",
    "        print(f\"执行结果: {result.get('execution_result', 'None')}\")\n",
    "        print(f\"迭代次数: {result.get('iteration_count', 0)}\")"
   ]
  },
  {
   "cell_type": "markdown",
   "id": "0fc2e9dc",
   "metadata": {},
   "source": [
    "[{'role': 'system', 'content': '你是一个计算助手\\n\\n你是一个CodeAct智能助手。你需要通过编写和执行Python代码来完成任务。\\n\\n规则:\\n1. 使用Python代码块(```python)来执行操作\\n2. 使用print()输出你想要展示给用户的结果\\n3. 可以引用之前代码片段中定义的变量\\n4. 如果不需要执行代码，直接用文本回复用户\\n\\n除了Python标准库，你还可以使用以下工具函数:\\n\\ndef add_numbers(a: float, b: float) -> float:\\n    \"\"\"将两个数字相加\"\"\"\\n    ...\\ndef multiply_numbers(a: float, b: float) -> float:\\n    \"\"\"将两个数字相乘\"\"\"\\n    ...\\n\\n\\n示例:\\n用户: 计算1到10的平方和\\n助手: ```python\\nsquares = [i**2 for i in range(1, 11)]\\nresult = sum(squares)\\nprint(f\"1到10的平方和是: {result}\")\\n```\\n\\n用户: 获取当前时间\\n助手: ```python\\nimport datetime\\nnow = datetime.datetime.now()\\nprint(f\"当前时间: {now}\")\\n```\\n'}, HumanMessage(content='计算(10 + 5) * 3的结果,使用函数进行计算', additional_kwargs={}, response_metadata={}, id='c47e4dbb-d5b7-486d-8410-25e021a3441a'), AIMessage(content='<think>\\n好的，用户让我计算(10 + 5) * 3的结果，并且要求使用函数进行计算。首先，我需要确定应该使用哪个函数。根据提供的工具函数，有两个选项：add_numbers和multiply_numbers。先看看题目里的运算顺序，括号里的10加5应该用加法函数，然后结果再乘以3，需要用乘法函数。不过可能需要分两步来做，先加后乘。\\n\\n首先处理括号内的加法部分，也就是10和5相加。这时候应该调用add_numbers函数，传入a=10，b=5，得到结果15。然后，将这个结果15和3相乘，这时候调用multiply_numbers函数，a=15，b=3，得到最终结果45。这样分两步，先加后乘，符合数学运算的顺序。\\n\\n不过用户可能希望看到每一步的结果，或者直接输出最终结果。所以代码里需要先调用add_numbers得到15，再用这个结果调用multiply_numbers。然后打印最终结果。或者是否可以将两个函数调用的结果合并，比如直接返回multiply_numbers(add_numbers(10,5),3)。这样代码更简洁，但可能需要确认函数调用的参数是否正确。\\n\\n现在需要考虑的是，用户是否允许这样的嵌套调用。比如，add_numbers返回的值是否可以直接作为参数传递给multiply_numbers。假设可以的话，那么代码可以写成直接计算，然后输出结果。或者是否需要中间变量来保存步骤的结果，比如先计算sum_result = add_numbers(10,5)，然后result = multiply_numbers(sum_result,3)，最后打印result。这样可能更清晰，用户也能看到每一步的分解过程。\\n\\n不过用户可能只需要最终结果，所以无论哪种方式，只要正确调用函数，得到45即可。因此，编写代码时可以选择这两种方式中的一种。根据示例中的代码风格，可能更倾向于直接计算并输出结果。例如：\\n\\nresult = multiply_numbers(add_numbers(10,5),3)\\nprint(result)\\n\\n这样代码简洁，但需要确保函数调用的顺序正确。另外，需要确认工具函数的参数是否正确，比如add_numbers的返回值是否是正确的数值类型，可以传递给multiply_numbers。假设这两个函数都是正确实现的，那么这样的调用是可行的。\\n\\n总结下来，正确的步骤是先用add_numbers处理10和5，得到15，再用multiply_numbers处理15和3，得到45。因此，在代码中直接嵌套调用这两个函数，然后输出结果即可。这样就能满足用户的要求了。\\n</think>\\n\\n```python\\nresult = multiply_numbers(add_numbers(10, 5), 3)\\nprint(f\"(10 + 5) * 3 的结果是: {result}\")\\n```', additional_kwargs={}, response_metadata={'model': 'qwen3:32b', 'created_at': '2025-07-17T02:27:42.762351843Z', 'done': True, 'done_reason': 'stop', 'total_duration': 28550315119, 'load_duration': 5675182425, 'prompt_eval_count': 263, 'prompt_eval_duration': 494405524, 'eval_count': 598, 'eval_duration': 22367159266, 'model_name': 'qwen3:32b'}, id='run--2c36115f-5295-47ec-ba1c-3a2a8f84a04f-0', usage_metadata={'input_tokens': 263, 'output_tokens': 598, 'total_tokens': 861}), {'role': 'user', 'content': '\\n执行代码时发生错误:\\n\\n错误信息: 代码执行错误: name \\'multiply_numbers\\' is not defined\\n\\n出错代码:\\n```python\\nresult = multiply_numbers(add_numbers(10, 5), 3)\\nprint(f\"(10 + 5) * 3 的结果是: {result}\")\\n```\\n\\n请分析错误原因并提供修正后的代码。\\n'}]"
   ]
  }
 ],
 "metadata": {
  "kernelspec": {
   "display_name": ".venv",
   "language": "python",
   "name": "python3"
  },
  "language_info": {
   "codemirror_mode": {
    "name": "ipython",
    "version": 3
   },
   "file_extension": ".py",
   "mimetype": "text/x-python",
   "name": "python",
   "nbconvert_exporter": "python",
   "pygments_lexer": "ipython3",
   "version": "3.11.13"
  }
 },
 "nbformat": 4,
 "nbformat_minor": 5
}

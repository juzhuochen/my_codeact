{
 "cells": [
  {
   "cell_type": "code",
   "execution_count": null,
   "id": "56fc132f",
   "metadata": {},
   "outputs": [],
   "source": [
    "from my_codeact.core.subgraph import create_codeact_agent\n",
    "from langchain_ollama import ChatOllama\n",
    "from tests.test_data.math import add_numbers, multiply_numbers\n",
    "from my_codeact.core.state import create_initial_state"
   ]
  },
  {
   "cell_type": "code",
   "execution_count": null,
   "id": "c4fa5967",
   "metadata": {},
   "outputs": [],
   "source": [
    "llm = ChatOllama(model=\"qwen3:32b\")\n",
    "tools = [add_numbers, multiply_numbers]"
   ]
  },
  {
   "cell_type": "code",
   "execution_count": null,
   "id": "5927cab8",
   "metadata": {},
   "outputs": [],
   "source": [
    "agent = create_codeact_agent(\n",
    "    model=llm,\n",
    "    tools=tools,\n",
    "    base_prompt= \"你是一个计算助手\"\n",
    ")"
   ]
  },
  {
   "cell_type": "code",
   "execution_count": null,
   "id": "23e28342",
   "metadata": {},
   "outputs": [],
   "source": [
    "# 测试对话\n",
    "test_messages = [\n",
    "    {\"role\": \"user\", \"content\": \"计算(10 + 5) * 3的结果,使用函数进行计算\"},\n",
    "]\n"
   ]
  },
  {
   "cell_type": "code",
   "execution_count": null,
   "id": "9857cc20",
   "metadata": {},
   "outputs": [],
   "source": [
    "\n",
    "input_state = create_initial_state(\n",
    "    messages=test_messages,\n",
    "    max_iterations=3,\n",
    "\n",
    ")"
   ]
  },
  {
   "cell_type": "code",
   "execution_count": null,
   "id": "6760a334",
   "metadata": {},
   "outputs": [],
   "source": [
    "response = agent.invoke(input_state)"
   ]
  },
  {
   "cell_type": "code",
   "execution_count": null,
   "id": "76ddda6e",
   "metadata": {},
   "outputs": [],
   "source": [
    "response "
   ]
  },
  {
   "cell_type": "code",
   "execution_count": null,
   "id": "0503a601",
   "metadata": {},
   "outputs": [],
   "source": [
    "\n",
    "for message in test_messages:\n",
    "        print(f\"\\n用户: {message['content']}\")\n",
    "        print(\"=\" * 50)\n",
    "        \n",
    "        # 调用智能体\n",
    "        result = agent.invoke({\n",
    "            \"messages\": [message],\n",
    "            \"iteration_count\": 0,\n",
    "            \"max_iterations\": 10,\n",
    "            \"execution_context\": {},\n",
    "            \"available_tools\": {},\n",
    "            \"retry_count\": 0\n",
    "        })\n",
    "        \n",
    "        # 输出结果\n",
    "        if result.get(\"messages\"):\n",
    "            last_message = result[\"messages\"][-1]\n",
    "            print(f\"助手: {last_message}\")\n",
    "        \n",
    "        print(f\"执行结果: {result.get('execution_result', 'None')}\")\n",
    "        print(f\"迭代次数: {result.get('iteration_count', 0)}\")"
   ]
  },
  {
   "cell_type": "markdown",
   "id": "0fc2e9dc",
   "metadata": {},
   "source": []
  },
  {
   "cell_type": "markdown",
   "id": "01521506",
   "metadata": {},
   "source": [
    "# jupyter exec"
   ]
  }
 ],
 "metadata": {
  "kernelspec": {
   "display_name": ".venv",
   "language": "python",
   "name": "python3"
  },
  "language_info": {
   "codemirror_mode": {
    "name": "ipython",
    "version": 3
   },
   "file_extension": ".py",
   "mimetype": "text/x-python",
   "name": "python",
   "nbconvert_exporter": "python",
   "pygments_lexer": "ipython3",
   "version": "3.11.13"
  }
 },
 "nbformat": 4,
 "nbformat_minor": 5
}

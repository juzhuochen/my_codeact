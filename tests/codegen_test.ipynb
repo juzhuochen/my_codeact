{
 "cells": [
  {
   "cell_type": "code",
   "execution_count": null,
   "id": "38cf0d80",
   "metadata": {},
   "outputs": [],
   "source": []
  },
  {
   "cell_type": "code",
   "execution_count": null,
   "id": "c73b3696",
   "metadata": {},
   "outputs": [],
   "source": [
    "from my_codeact.core.jupyter_executor import create_jupyter_eval_fn\n",
    "\n",
    "eval_fn, executor = create_jupyter_eval_fn()"
   ]
  },
  {
   "cell_type": "markdown",
   "id": "dd416fdf",
   "metadata": {},
   "source": [
    "# make the code executor as a tool"
   ]
  },
  {
   "cell_type": "code",
   "execution_count": null,
   "id": "9d37f417",
   "metadata": {},
   "outputs": [],
   "source": [
    "from test_tool import create_agent, AgentState\n",
    "from langchain_core.messages import ToolCall, HumanMessage\n",
    "agent = create_agent()"
   ]
  },
  {
   "cell_type": "code",
   "execution_count": null,
   "id": "2bdc9fc5",
   "metadata": {},
   "outputs": [],
   "source": [
    "\n",
    "\n",
    "# 使用示例\n",
    "initial_state:AgentState = {\n",
    "    \"messages\": [HumanMessage(content=\"请帮我计算 1到1000的平方和\")],\n",
    "    \"current_tool_calls\": None,\n",
    "    \"last_observation\": None\n",
    "}\n",
    "\n"
   ]
  },
  {
   "cell_type": "code",
   "execution_count": null,
   "id": "0da08510",
   "metadata": {},
   "outputs": [],
   "source": [
    "agent.invoke(initial_state)"
   ]
  }
 ],
 "metadata": {
  "kernelspec": {
   "display_name": ".venv",
   "language": "python",
   "name": "python3"
  },
  "language_info": {
   "codemirror_mode": {
    "name": "ipython",
    "version": 3
   },
   "file_extension": ".py",
   "mimetype": "text/x-python",
   "name": "python",
   "nbconvert_exporter": "python",
   "pygments_lexer": "ipython3",
   "version": "3.11.13"
  }
 },
 "nbformat": 4,
 "nbformat_minor": 5
}

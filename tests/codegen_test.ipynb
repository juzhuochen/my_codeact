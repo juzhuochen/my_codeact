{
 "cells": [
  {
   "cell_type": "markdown",
   "id": "caf89b61",
   "metadata": {},
   "source": [
    "# test env config"
   ]
  },
  {
   "cell_type": "code",
   "execution_count": null,
   "id": "dca964f1",
   "metadata": {},
   "outputs": [],
   "source": [
    "from my_codeact.tools.jupyter_tool import configure_jupyter_modules\n",
    "from langchain.chat_models import init_chat_model\n",
    "from langgraph.prebuilt import ToolNode\n",
    "configure_jupyter_modules(\n",
    "    module_paths=[\"test_data\"],\n",
    "    auto_imports=[\"cloudpss\"]\n",
    ")\n",
    "llm = init_chat_model(\"ollama:qwen3:32b\")"
   ]
  },
  {
   "cell_type": "code",
   "execution_count": null,
   "id": "96998221",
   "metadata": {},
   "outputs": [],
   "source": [
    "from my_codeact.tools.jupyter_tool import execute_jupyter_code\n",
    "code = \"\"\"\n",
    "import cloudpss\n",
    "print(cloudpss.__version__)\n",
    "\n",
    "\"\"\"\n",
    "llm_with_tool = llm.bind_tools([execute_jupyter_code])"
   ]
  },
  {
   "cell_type": "code",
   "execution_count": 27,
   "id": "df61993b",
   "metadata": {},
   "outputs": [],
   "source": [
    "response = llm_with_tool.invoke(\"调用工具执行代码:\\n\" + code)"
   ]
  },
  {
   "cell_type": "code",
   "execution_count": 30,
   "id": "dbb60aa3",
   "metadata": {},
   "outputs": [
    {
     "data": {
      "text/plain": [
       "{'name': 'execute_jupyter_code',\n",
       " 'args': {'code': 'import cloudpss\\nprint(cloudpss.__version__)'},\n",
       " 'id': '0dab746c-a2a9-42f6-a03e-d96290d53e90',\n",
       " 'type': 'tool_call'}"
      ]
     },
     "execution_count": 30,
     "metadata": {},
     "output_type": "execute_result"
    }
   ],
   "source": [
    "response.tool_calls[0]"
   ]
  },
  {
   "cell_type": "markdown",
   "id": "8203b079",
   "metadata": {},
   "source": [
    "### config env"
   ]
  },
  {
   "cell_type": "code",
   "execution_count": 34,
   "id": "7dcb0a82",
   "metadata": {},
   "outputs": [
    {
     "data": {
      "text/plain": [
       "{'module_paths': ['test_data'],\n",
       " 'auto_imports': ['cloudpss'],\n",
       " 'config_file': 'jupyter_config.json'}"
      ]
     },
     "execution_count": 34,
     "metadata": {},
     "output_type": "execute_result"
    }
   ],
   "source": [
    "from my_codeact.tools.jupyter_tool import get_jupyter_config\n",
    "get_jupyter_config()"
   ]
  },
  {
   "cell_type": "markdown",
   "id": "614cbbd7",
   "metadata": {},
   "source": [
    "### run in ipy"
   ]
  },
  {
   "cell_type": "code",
   "execution_count": 33,
   "id": "169776d0",
   "metadata": {},
   "outputs": [
    {
     "data": {
      "text/plain": [
       "{'messages': [ToolMessage(content=\"✗ 执行失败 (session: b0a0bc73-5ce1-47e7-a9f4-439cbb9ad25d):\\n\\x1b[31m---------------------------------------------------------------------------\\x1b[39m\\n\\x1b[31mNameError\\x1b[39m                                 Traceback (most recent call last)\\n\\x1b[36mCell\\x1b[39m\\x1b[36m \\x1b[39m\\x1b[32mIn[1]\\x1b[39m\\x1b[32m, line 1\\x1b[39m\\n\\x1b[32m----> \\x1b[39m\\x1b[32m1\\x1b[39m \\x1b[43mcloudpss\\x1b[49m\\n\\x1b[32m      2\\x1b[39m \\x1b[38;5;28;01mimport\\x1b[39;00m\\x1b[38;5;250m \\x1b[39m\\x1b[34;01mcloudpss\\x1b[39;00m\\n\\x1b[32m      3\\x1b[39m \\x1b[38;5;28mprint\\x1b[39m(cloudpss.__version__)\\n\\n\\x1b[31mNameError\\x1b[39m: name 'cloudpss' is not defined\", name='execute_jupyter_code', tool_call_id='0dab746c-a2a9-42f6-a03e-d96290d53e90')]}"
      ]
     },
     "execution_count": 33,
     "metadata": {},
     "output_type": "execute_result"
    }
   ],
   "source": [
    "tool_node = ToolNode([execute_jupyter_code])\n",
    "tool_node.invoke({\"messages\": [response]})"
   ]
  },
  {
   "cell_type": "code",
   "execution_count": 40,
   "id": "681efe66",
   "metadata": {},
   "outputs": [],
   "source": [
    "from my_codeact.test_data import *"
   ]
  },
  {
   "cell_type": "code",
   "execution_count": 38,
   "id": "34f19c7c",
   "metadata": {},
   "outputs": [],
   "source": [
    "import my_codeact.test_data"
   ]
  },
  {
   "cell_type": "code",
   "execution_count": 41,
   "id": "1df26634",
   "metadata": {},
   "outputs": [
    {
     "ename": "ModuleNotFoundError",
     "evalue": "No module named 'S_S_SyncComp'",
     "output_type": "error",
     "traceback": [
      "\u001b[31m---------------------------------------------------------------------------\u001b[39m",
      "\u001b[31mModuleNotFoundError\u001b[39m                       Traceback (most recent call last)",
      "\u001b[36mCell\u001b[39m\u001b[36m \u001b[39m\u001b[32mIn[41]\u001b[39m\u001b[32m, line 1\u001b[39m\n\u001b[32m----> \u001b[39m\u001b[32m1\u001b[39m \u001b[38;5;28;01mimport\u001b[39;00m\u001b[38;5;250m \u001b[39m\u001b[34;01mS_S_SyncComp\u001b[39;00m\u001b[38;5;250m \u001b[39m\u001b[38;5;28;01mas\u001b[39;00m\u001b[38;5;250m \u001b[39m\u001b[34;01mSA\u001b[39;00m\n",
      "\u001b[31mModuleNotFoundError\u001b[39m: No module named 'S_S_SyncComp'"
     ]
    }
   ],
   "source": [
    "import S_S_SyncComp as SA"
   ]
  }
 ],
 "metadata": {
  "kernelspec": {
   "display_name": ".venv",
   "language": "python",
   "name": "python3"
  },
  "language_info": {
   "codemirror_mode": {
    "name": "ipython",
    "version": 3
   },
   "file_extension": ".py",
   "mimetype": "text/x-python",
   "name": "python",
   "nbconvert_exporter": "python",
   "pygments_lexer": "ipython3",
   "version": "3.11.13"
  }
 },
 "nbformat": 4,
 "nbformat_minor": 5
}
